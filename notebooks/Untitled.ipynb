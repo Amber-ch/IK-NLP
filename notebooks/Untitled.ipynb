{
 "cells": [
  {
   "cell_type": "code",
   "execution_count": 1,
   "id": "fc7920ba-7d9c-4428-9b2e-e5a19ed17e81",
   "metadata": {
    "tags": []
   },
   "outputs": [],
   "source": [
    "import datasets\n",
    "import matplotlib.pyplot as plt\n",
    "import numpy as np\n",
    "import nltk\n",
    "import torch\n",
    "import time\n",
    "from datasets import load_metric\n",
    "from transformers import AutoTokenizer\n",
    "from transformers import AutoModelForSeq2SeqLM, DataCollatorForSeq2Seq, Seq2SeqTrainingArguments, Seq2SeqTrainer"
   ]
  },
  {
   "cell_type": "code",
   "execution_count": 2,
   "id": "e5b3d397-e813-4376-a391-610145f5bece",
   "metadata": {
    "tags": []
   },
   "outputs": [
    {
     "name": "stderr",
     "output_type": "stream",
     "text": [
      "Found cached dataset esnli (/Users/lorenzorota/.cache/huggingface/datasets/esnli/plain_text/0.0.2/a160e6a02bbb8d828c738918dafec4e7d298782c334b5109af632fec6d779bbc)\n"
     ]
    },
    {
     "data": {
      "application/vnd.jupyter.widget-view+json": {
       "model_id": "b54efe1855804db9a4f4919931b0d8e5",
       "version_major": 2,
       "version_minor": 0
      },
      "text/plain": [
       "  0%|          | 0/3 [00:00<?, ?it/s]"
      ]
     },
     "metadata": {},
     "output_type": "display_data"
    }
   ],
   "source": [
    "DATASET_DIR = './data'\n",
    "\n",
    "esnli = datasets.load_dataset(\"esnli\")"
   ]
  },
  {
   "cell_type": "code",
   "execution_count": 14,
   "id": "3498edc8-b30d-4bb0-8b43-983fe8595b23",
   "metadata": {
    "tags": []
   },
   "outputs": [
    {
     "data": {
      "text/plain": [
       "549367"
      ]
     },
     "execution_count": 14,
     "metadata": {},
     "output_type": "execute_result"
    }
   ],
   "source": [
    "esnli[\"train\"].shape[0]"
   ]
  },
  {
   "cell_type": "code",
   "execution_count": 8,
   "id": "769e5c10-3cab-4ab1-9208-3737b0daab56",
   "metadata": {
    "tags": []
   },
   "outputs": [],
   "source": [
    "SUBSET_SIZE = 0.1"
   ]
  },
  {
   "cell_type": "code",
   "execution_count": 10,
   "id": "c60fbb2f-1df9-4040-b0ad-55bd74b3743a",
   "metadata": {
    "tags": []
   },
   "outputs": [],
   "source": [
    "dataset = esnli"
   ]
  },
  {
   "cell_type": "code",
   "execution_count": null,
   "id": "a849f44b-a0f1-4709-92bb-ff157de4105e",
   "metadata": {},
   "outputs": [],
   "source": []
  },
  {
   "cell_type": "code",
   "execution_count": 15,
   "id": "e083af13-6877-43cb-bce2-86b70a4c6e3c",
   "metadata": {
    "tags": []
   },
   "outputs": [],
   "source": [
    "        train_size = int(dataset['train'].shape[0] * SUBSET_SIZE)\n",
    "        val_size = int(dataset['validation'].shape[0] * SUBSET_SIZE)\n",
    "        test_size = int(dataset['test'].shape[0] * SUBSET_SIZE)"
   ]
  },
  {
   "cell_type": "code",
   "execution_count": 17,
   "id": "5e19c285-a074-44ed-93e6-fcf289cc8c28",
   "metadata": {
    "tags": []
   },
   "outputs": [
    {
     "data": {
      "text/plain": [
       "DatasetDict({\n",
       "    train: Dataset({\n",
       "        features: ['premise', 'hypothesis', 'label', 'explanation_1', 'explanation_2', 'explanation_3'],\n",
       "        num_rows: 549367\n",
       "    })\n",
       "    validation: Dataset({\n",
       "        features: ['premise', 'hypothesis', 'label', 'explanation_1', 'explanation_2', 'explanation_3'],\n",
       "        num_rows: 9842\n",
       "    })\n",
       "    test: Dataset({\n",
       "        features: ['premise', 'hypothesis', 'label', 'explanation_1', 'explanation_2', 'explanation_3'],\n",
       "        num_rows: 9824\n",
       "    })\n",
       "})"
      ]
     },
     "execution_count": 17,
     "metadata": {},
     "output_type": "execute_result"
    }
   ],
   "source": [
    "dataset"
   ]
  },
  {
   "cell_type": "code",
   "execution_count": 24,
   "id": "041838d8-c350-4446-8bf1-280a89da244e",
   "metadata": {
    "tags": []
   },
   "outputs": [],
   "source": [
    "t = datasets.DatasetDict()"
   ]
  },
  {
   "cell_type": "code",
   "execution_count": 26,
   "id": "d8945379-f10f-4185-ba4d-899884fa1de2",
   "metadata": {
    "tags": []
   },
   "outputs": [
    {
     "name": "stderr",
     "output_type": "stream",
     "text": [
      "Loading cached shuffled indices for dataset at /Users/lorenzorota/.cache/huggingface/datasets/esnli/plain_text/0.0.2/a160e6a02bbb8d828c738918dafec4e7d298782c334b5109af632fec6d779bbc/cache-175c704abdaa3ce8.arrow\n",
      "Loading cached shuffled indices for dataset at /Users/lorenzorota/.cache/huggingface/datasets/esnli/plain_text/0.0.2/a160e6a02bbb8d828c738918dafec4e7d298782c334b5109af632fec6d779bbc/cache-cfdf5e8fa5487187.arrow\n",
      "Loading cached shuffled indices for dataset at /Users/lorenzorota/.cache/huggingface/datasets/esnli/plain_text/0.0.2/a160e6a02bbb8d828c738918dafec4e7d298782c334b5109af632fec6d779bbc/cache-16f4f11d0f60d6b3.arrow\n"
     ]
    }
   ],
   "source": [
    "        dataset2 = datasets.DatasetDict()\n",
    "        dataset2['train'] = esnli['train'].shuffle(seed=42).select(range(train_size))\n",
    "        dataset2['validation'] = esnli['validation'].shuffle(seed=42).select(range(val_size))\n",
    "        dataset2['test'] = esnli['test'].shuffle(seed=42).select(range(test_size))"
   ]
  },
  {
   "cell_type": "code",
   "execution_count": 29,
   "id": "5cfcb0cf-ab53-4388-96bf-4c3cd35c1de6",
   "metadata": {
    "tags": []
   },
   "outputs": [
    {
     "data": {
      "text/plain": [
       "{'premise': 'A group of people riding a yellow roller coaster.',\n",
       " 'hypothesis': 'A group of people are riding a roller coaster.',\n",
       " 'label': 0,\n",
       " 'explanation_1': 'group of people riding a roller coaster. is same as group of people riding a yellow roller coaster',\n",
       " 'explanation_2': '',\n",
       " 'explanation_3': ''}"
      ]
     },
     "execution_count": 29,
     "metadata": {},
     "output_type": "execute_result"
    }
   ],
   "source": [
    "dataset2['train'][0]"
   ]
  },
  {
   "cell_type": "code",
   "execution_count": 54,
   "id": "465b5e5f-9bcb-456e-84ee-33f791b5298c",
   "metadata": {
    "tags": []
   },
   "outputs": [
    {
     "data": {
      "text/plain": [
       "{'premise': 'A man holding a fishing rod stands nearby four men with a jet ski.',\n",
       " 'hypothesis': 'One man is fishing.',\n",
       " 'label': 1,\n",
       " 'explanation_1': 'A man holding a fishing rod is not necessarily fishing.',\n",
       " 'explanation_2': '',\n",
       " 'explanation_3': ''}"
      ]
     },
     "execution_count": 54,
     "metadata": {},
     "output_type": "execute_result"
    }
   ],
   "source": [
    "dataset2['train'].shuffle(seed=None)[0]"
   ]
  },
  {
   "cell_type": "code",
   "execution_count": 57,
   "id": "07474413-efbe-4a2d-ab69-1948e2748a2e",
   "metadata": {
    "tags": []
   },
   "outputs": [],
   "source": [
    "available_gpus = [torch.cuda.device(i) for i in range(torch.cuda.device_count())]"
   ]
  },
  {
   "cell_type": "code",
   "execution_count": 61,
   "id": "b49a7e0d-29c1-4c24-8fa9-b72a6aa860b1",
   "metadata": {
    "tags": []
   },
   "outputs": [
    {
     "data": {
      "text/plain": [
       "True"
      ]
     },
     "execution_count": 61,
     "metadata": {},
     "output_type": "execute_result"
    }
   ],
   "source": [
    "if torch.backends.mps.is_available()"
   ]
  },
  {
   "cell_type": "code",
   "execution_count": 65,
   "id": "a2a29c86-108c-4447-a992-bfd2e11efb79",
   "metadata": {
    "tags": []
   },
   "outputs": [
    {
     "data": {
      "text/plain": [
       "False"
      ]
     },
     "execution_count": 65,
     "metadata": {},
     "output_type": "execute_result"
    }
   ],
   "source": [
    "torch.cuda.is_available()"
   ]
  },
  {
   "cell_type": "code",
   "execution_count": 67,
   "id": "3bc53c52-02e8-41e5-81d4-c2d6d5c3e71f",
   "metadata": {
    "tags": []
   },
   "outputs": [
    {
     "data": {
      "text/plain": [
       "device(type='mps')"
      ]
     },
     "execution_count": 67,
     "metadata": {},
     "output_type": "execute_result"
    }
   ],
   "source": [
    "torch.device(\"mps\")"
   ]
  },
  {
   "cell_type": "code",
   "execution_count": 70,
   "id": "9d536dc1-d63a-4e8a-a08a-1d302253586e",
   "metadata": {
    "tags": []
   },
   "outputs": [],
   "source": [
    "def select_device(choice='gpu'):\n",
    "    \"\"\"Return GPU device if available, else return CPU.\"\"\"\n",
    "\n",
    "    # Prioritize CUDA\n",
    "    if choice=='gpu':\n",
    "        if torch.cuda.is_available():\n",
    "            device = torch.device('cuda')\n",
    "        elif torch.backends.mps.is_available():\n",
    "            device = torch.device('mps')\n",
    "        else: # fall-back option\n",
    "            device = torch.device('cpu')\n",
    "    else:\n",
    "        device = torch.device('cpu')\n",
    "        \n",
    "    return device"
   ]
  },
  {
   "cell_type": "code",
   "execution_count": 79,
   "id": "4e5b424d-a918-410a-adde-7ffdbdce3ce1",
   "metadata": {
    "tags": []
   },
   "outputs": [
    {
     "name": "stdout",
     "output_type": "stream",
     "text": [
      "True\n"
     ]
    }
   ],
   "source": [
    "print(str(select_device())=='mps')"
   ]
  },
  {
   "cell_type": "code",
   "execution_count": null,
   "id": "cb4bdfd9-e5cf-4a45-8be3-ab3504c99a22",
   "metadata": {},
   "outputs": [],
   "source": []
  }
 ],
 "metadata": {
  "kernelspec": {
   "display_name": "Python 3 (ipykernel)",
   "language": "python",
   "name": "python3"
  },
  "language_info": {
   "codemirror_mode": {
    "name": "ipython",
    "version": 3
   },
   "file_extension": ".py",
   "mimetype": "text/x-python",
   "name": "python",
   "nbconvert_exporter": "python",
   "pygments_lexer": "ipython3",
   "version": "3.8.2"
  }
 },
 "nbformat": 4,
 "nbformat_minor": 5
}
