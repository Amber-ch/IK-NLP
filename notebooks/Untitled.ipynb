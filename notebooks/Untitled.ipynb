{
 "cells": [
  {
   "cell_type": "code",
   "execution_count": 3,
   "id": "fc7920ba-7d9c-4428-9b2e-e5a19ed17e81",
   "metadata": {
    "tags": []
   },
   "outputs": [],
   "source": [
    "import datasets\n",
    "import matplotlib.pyplot as plt\n",
    "import numpy as np\n",
    "import nltk\n",
    "import torch\n",
    "import time\n",
    "from datasets import load_metric\n",
    "from transformers import AutoTokenizer\n",
    "from transformers import AutoModelForSeq2SeqLM, DataCollatorForSeq2Seq, Seq2SeqTrainingArguments, Seq2SeqTrainer"
   ]
  },
  {
   "cell_type": "code",
   "execution_count": 7,
   "id": "e5b3d397-e813-4376-a391-610145f5bece",
   "metadata": {
    "tags": []
   },
   "outputs": [
    {
     "name": "stderr",
     "output_type": "stream",
     "text": [
      "Found cached dataset esnli (/Users/lorenzorota/.cache/huggingface/datasets/esnli/plain_text/0.0.2/a160e6a02bbb8d828c738918dafec4e7d298782c334b5109af632fec6d779bbc)\n"
     ]
    },
    {
     "data": {
      "application/vnd.jupyter.widget-view+json": {
       "model_id": "8ea203149f6f40f5a0c1431ae39c04ef",
       "version_major": 2,
       "version_minor": 0
      },
      "text/plain": [
       "  0%|          | 0/3 [00:00<?, ?it/s]"
      ]
     },
     "metadata": {},
     "output_type": "display_data"
    }
   ],
   "source": [
    "DATASET_DIR = './data'\n",
    "\n",
    "esnli = datasets.load_dataset(\"esnli\")"
   ]
  },
  {
   "cell_type": "code",
   "execution_count": 8,
   "id": "3498edc8-b30d-4bb0-8b43-983fe8595b23",
   "metadata": {
    "tags": []
   },
   "outputs": [
    {
     "data": {
      "text/plain": [
       "549367"
      ]
     },
     "execution_count": 8,
     "metadata": {},
     "output_type": "execute_result"
    }
   ],
   "source": [
    "esnli[\"train\"].shape[0]"
   ]
  },
  {
   "cell_type": "code",
   "execution_count": 9,
   "id": "769e5c10-3cab-4ab1-9208-3737b0daab56",
   "metadata": {
    "tags": []
   },
   "outputs": [],
   "source": [
    "SUBSET_SIZE = 0.1"
   ]
  },
  {
   "cell_type": "code",
   "execution_count": 10,
   "id": "c60fbb2f-1df9-4040-b0ad-55bd74b3743a",
   "metadata": {
    "tags": []
   },
   "outputs": [],
   "source": [
    "dataset = esnli"
   ]
  },
  {
   "cell_type": "code",
   "execution_count": null,
   "id": "a849f44b-a0f1-4709-92bb-ff157de4105e",
   "metadata": {},
   "outputs": [],
   "source": []
  },
  {
   "cell_type": "code",
   "execution_count": 11,
   "id": "e083af13-6877-43cb-bce2-86b70a4c6e3c",
   "metadata": {
    "tags": []
   },
   "outputs": [],
   "source": [
    "        train_size = int(dataset['train'].shape[0] * SUBSET_SIZE)\n",
    "        val_size = int(dataset['validation'].shape[0] * SUBSET_SIZE)\n",
    "        test_size = int(dataset['test'].shape[0] * SUBSET_SIZE)"
   ]
  },
  {
   "cell_type": "code",
   "execution_count": 14,
   "id": "5e19c285-a074-44ed-93e6-fcf289cc8c28",
   "metadata": {
    "tags": []
   },
   "outputs": [
    {
     "data": {
      "text/plain": [
       "{'premise': 'Two women are embracing while holding to go packages.',\n",
       " 'hypothesis': 'The sisters are hugging goodbye while holding to go packages after just eating lunch.',\n",
       " 'label': 1,\n",
       " 'explanation_1': 'The to go packages may not be from lunch.',\n",
       " 'explanation_2': 'Just because two women are embracing, does not mean they are sisters.  Two women that are embracing are not necessarily hugging goodbye.',\n",
       " 'explanation_3': 'Two women do not have to be sisters.  Embracing does not mean hugging goodbye.  The women do not have to have just finished lunch to be embracing.'}"
      ]
     },
     "execution_count": 14,
     "metadata": {},
     "output_type": "execute_result"
    }
   ],
   "source": [
    "dataset['validation'][0]"
   ]
  },
  {
   "cell_type": "code",
   "execution_count": null,
   "id": "722b234b-ff96-4206-a951-1951675b294f",
   "metadata": {},
   "outputs": [],
   "source": []
  }
 ],
 "metadata": {
  "kernelspec": {
   "display_name": "Python 3 (ipykernel)",
   "language": "python",
   "name": "python3"
  },
  "language_info": {
   "codemirror_mode": {
    "name": "ipython",
    "version": 3
   },
   "file_extension": ".py",
   "mimetype": "text/x-python",
   "name": "python",
   "nbconvert_exporter": "python",
   "pygments_lexer": "ipython3",
   "version": "3.8.2"
  }
 },
 "nbformat": 4,
 "nbformat_minor": 5
}
