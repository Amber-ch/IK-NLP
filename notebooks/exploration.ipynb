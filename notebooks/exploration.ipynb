{
 "cells": [
  {
   "cell_type": "markdown",
   "id": "239df86c-3224-48c3-b57f-316fcb4005f9",
   "metadata": {},
   "source": [
    "# Exploratory Data Analysis"
   ]
  },
  {
   "cell_type": "markdown",
   "id": "557d7eb3-6103-47fc-8a2f-a310a155741b",
   "metadata": {},
   "source": [
    "We will carry out an exploration of the ESNLI dataset before we fine-tune the T5 model."
   ]
  },
  {
   "cell_type": "code",
   "execution_count": 4,
   "id": "86747dc4-a792-45a8-aff9-0d462f915e33",
   "metadata": {
    "tags": []
   },
   "outputs": [],
   "source": [
    "import datasets\n",
    "import matplotlib.pyplot as plt\n",
    "import numpy as np\n",
    "\n",
    "from collections import Counter\n",
    "from datasets import load_metric"
   ]
  },
  {
   "cell_type": "markdown",
   "id": "598e707d-53e0-4b67-8c83-01aa6a79d96a",
   "metadata": {},
   "source": [
    "We will use the ESNLI dataset"
   ]
  },
  {
   "cell_type": "code",
   "execution_count": 5,
   "id": "829f7da6-6f9a-4bf6-a897-602c07b82082",
   "metadata": {
    "tags": []
   },
   "outputs": [
    {
     "name": "stderr",
     "output_type": "stream",
     "text": [
      "Found cached dataset esnli (/Users/lorenzorota/.cache/huggingface/datasets/esnli/plain_text/0.0.2/a160e6a02bbb8d828c738918dafec4e7d298782c334b5109af632fec6d779bbc)\n"
     ]
    },
    {
     "data": {
      "application/vnd.jupyter.widget-view+json": {
       "model_id": "821656d90cb2406e89ed6561232e0f4e",
       "version_major": 2,
       "version_minor": 0
      },
      "text/plain": [
       "  0%|          | 0/3 [00:00<?, ?it/s]"
      ]
     },
     "metadata": {},
     "output_type": "display_data"
    }
   ],
   "source": [
    "esnli = datasets.load_dataset(\"esnli\")"
   ]
  },
  {
   "cell_type": "code",
   "execution_count": 6,
   "id": "69b0131a-6224-4e06-8915-da86769a28b1",
   "metadata": {
    "tags": []
   },
   "outputs": [
    {
     "name": "stdout",
     "output_type": "stream",
     "text": [
      "First row of train:\n",
      "{'premise': 'A person on a horse jumps over a broken down airplane.', 'hypothesis': 'A person is training his horse for a competition.', 'label': 1, 'explanation_1': 'the person is not necessarily training his horse', 'explanation_2': '', 'explanation_3': ''}\n",
      "First row of test:\n",
      "{'premise': 'This church choir sings to the masses as they sing joyous songs from the book at a church.', 'hypothesis': 'The church has cracks in the ceiling.', 'label': 1, 'explanation_1': 'Not all churches have cracks in the ceiling', 'explanation_2': 'There is no indication that there are cracks in the ceiling of the church.', 'explanation_3': 'Not all churches have cracks in the ceiling.'} \n",
      "\n",
      "DatasetDict({\n",
      "    train: Dataset({\n",
      "        features: ['premise', 'hypothesis', 'label', 'explanation_1', 'explanation_2', 'explanation_3'],\n",
      "        num_rows: 549367\n",
      "    })\n",
      "    validation: Dataset({\n",
      "        features: ['premise', 'hypothesis', 'label', 'explanation_1', 'explanation_2', 'explanation_3'],\n",
      "        num_rows: 9842\n",
      "    })\n",
      "    test: Dataset({\n",
      "        features: ['premise', 'hypothesis', 'label', 'explanation_1', 'explanation_2', 'explanation_3'],\n",
      "        num_rows: 9824\n",
      "    })\n",
      "}) \n",
      "\n",
      "Number of rows in train: 9824\n"
     ]
    },
    {
     "data": {
      "image/png": "[encoded data removed]",
      "text/plain": [
       "<Figure size 1000x500 with 1 Axes>"
      ]
     },
     "metadata": {},
     "output_type": "display_data"
    }
   ],
   "source": [
    "# this is for doing some exploratory analysis\n",
    "def eda(name='train'):\n",
    "    dt = esnli[name]\n",
    "    print('Number of rows in train:',len(dt))\n",
    "    Counter(dt['label'])\n",
    "    labels, values = zip(*Counter(dt['label']).items())\n",
    "    labels = ['neutral', 'contradiction', 'entailment', ] #(1,2,0)\n",
    "\n",
    "    indexes = np.arange(len(labels))\n",
    "    width = 1\n",
    "\n",
    "    # plt.bar(indexes, values, width)\n",
    "    plt.figure(figsize=(10, 5),dpi=100) \n",
    "    plt.bar(indexes, values, align='edge', width=0.7)\n",
    "    plt.xticks(indexes + width * 0.35, labels)\n",
    "    plt.title(name + \" set class distribution\")\n",
    "    plt.show()\n",
    "\n",
    "# Train-val-test split\n",
    "esnli_train = esnli['train']\n",
    "esnli_val = esnli['validation']\n",
    "esnli_test = esnli['test']\n",
    "print('First row of train:')\n",
    "print(esnli_train[0])\n",
    "print('First row of test:')\n",
    "print(esnli_test[0],'\\n')\n",
    "\n",
    "#EDA\n",
    "print(esnli,'\\n')\n",
    "eda('test')"
   ]
  },
  {
   "cell_type": "markdown",
   "id": "e0a93769-ebe5-486d-a69e-a8903c865254",
   "metadata": {},
   "source": [
    "TODO: comment and go more in-depth (there is probably more we can look into)"
   ]
  }
 ],
 "metadata": {
  "kernelspec": {
   "display_name": "Python 3 (ipykernel)",
   "language": "python",
   "name": "python3"
  },
  "language_info": {
   "codemirror_mode": {
    "name": "ipython",
    "version": 3
   },
   "file_extension": ".py",
   "mimetype": "text/x-python",
   "name": "python",
   "nbconvert_exporter": "python",
   "pygments_lexer": "ipython3",
   "version": "3.8.2"
  }
 },
 "nbformat": 4,
 "nbformat_minor": 5
}
